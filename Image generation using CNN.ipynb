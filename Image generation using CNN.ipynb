{
  "nbformat": 4,
  "nbformat_minor": 0,
  "metadata": {
    "colab": {
      "provenance": []
    },
    "kernelspec": {
      "name": "python3",
      "display_name": "Python 3"
    },
    "language_info": {
      "name": "python"
    }
  },
  "cells": [
    {
      "cell_type": "code",
      "execution_count": 1,
      "metadata": {
        "colab": {
          "base_uri": "https://localhost:8080/",
          "height": 775
        },
        "id": "b2IucL032yi_",
        "outputId": "d0c5d901-18c4-4cb5-d0ff-71e652f6b288"
      },
      "outputs": [
        {
          "output_type": "stream",
          "name": "stdout",
          "text": [
            "Epoch 1/10\n",
            "32/32 [==============================] - 35s 1s/step - loss: 0.3317\n",
            "Epoch 2/10\n",
            "32/32 [==============================] - 21s 657ms/step - loss: 0.2904\n",
            "Epoch 3/10\n",
            "32/32 [==============================] - 20s 623ms/step - loss: 0.2892\n",
            "Epoch 4/10\n",
            "32/32 [==============================] - 20s 641ms/step - loss: 0.2876\n",
            "Epoch 5/10\n",
            "32/32 [==============================] - 20s 635ms/step - loss: 0.2856\n",
            "Epoch 6/10\n",
            "32/32 [==============================] - 22s 688ms/step - loss: 0.2833\n",
            "Epoch 7/10\n",
            "32/32 [==============================] - 21s 661ms/step - loss: 0.2814\n",
            "Epoch 8/10\n",
            "32/32 [==============================] - 19s 604ms/step - loss: 0.2798\n",
            "Epoch 9/10\n",
            "32/32 [==============================] - 21s 655ms/step - loss: 0.2786\n",
            "Epoch 10/10\n",
            "32/32 [==============================] - 22s 677ms/step - loss: 0.2776\n",
            "1/1 [==============================] - 0s 110ms/step\n"
          ]
        },
        {
          "output_type": "display_data",
          "data": {
            "text/plain": [
              "<Figure size 1000x500 with 2 Axes>"
            ],
            "image/png": "[encoded data removed]"
          },
          "metadata": {}
        }
      ],
      "source": [
        "\n",
        "# Import necessary libraries\n",
        "import numpy as np\n",
        "import matplotlib.pyplot as plt\n",
        "from keras.models import Sequential\n",
        "from keras.layers import Dense, Conv2D, Flatten, Reshape\n",
        "\n",
        "# Generate random images as training data\n",
        "num_images = 1000\n",
        "image_size = 28\n",
        "\n",
        "X_train = np.random.rand(num_images, image_size, image_size, 1)  # Random grayscale images\n",
        "y_train = np.random.rand(num_images, image_size, image_size, 1)  # Random target images\n",
        "\n",
        "# Define the CNN model\n",
        "model = Sequential([\n",
        "    Conv2D(32, kernel_size=3, activation='relu', input_shape=(image_size, image_size, 1)),\n",
        "    Conv2D(64, kernel_size=3, activation='relu'),\n",
        "    Flatten(),\n",
        "    Dense(image_size * image_size, activation='relu'),\n",
        "    Reshape((image_size, image_size, 1))\n",
        "])\n",
        "\n",
        "# Compile the model\n",
        "model.compile(optimizer='adam', loss='mse')\n",
        "\n",
        "# Train the model\n",
        "model.fit(X_train, y_train, epochs=10, batch_size=32)\n",
        "\n",
        "# Generate a sample image\n",
        "sample_image = X_train[0].reshape((1, image_size, image_size, 1))\n",
        "generated_image = model.predict(sample_image)\n",
        "\n",
        "# Plot the original and generated images\n",
        "plt.figure(figsize=(10, 5))\n",
        "\n",
        "plt.subplot(1, 2, 1)\n",
        "plt.title('Original Image')\n",
        "plt.imshow(X_train[0].reshape((image_size, image_size)), cmap='gray')\n",
        "plt.axis('off')\n",
        "\n",
        "plt.subplot(1, 2, 2)\n",
        "plt.title('Generated Image')\n",
        "plt.imshow(generated_image.reshape((image_size, image_size)), cmap='gray')\n",
        "plt.axis('off')\n",
        "\n",
        "plt.show()\n"
      ]
    }
  ]
}